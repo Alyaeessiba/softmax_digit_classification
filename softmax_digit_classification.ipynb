{
 "cells": [
  {
   "cell_type": "code",
   "execution_count": 1,
   "metadata": {},
   "outputs": [
    {
     "name": "stderr",
     "output_type": "stream",
     "text": [
      "2022-09-07 14:19:33.774815: I tensorflow/core/util/util.cc:169] oneDNN custom operations are on. You may see slightly different numerical results due to floating-point round-off errors from different computation orders. To turn them off, set the environment variable `TF_ENABLE_ONEDNN_OPTS=0`.\n",
      "2022-09-07 14:19:34.761812: W tensorflow/stream_executor/platform/default/dso_loader.cc:64] Could not load dynamic library 'libcudart.so.11.0'; dlerror: libcudart.so.11.0: cannot open shared object file: No such file or directory\n",
      "2022-09-07 14:19:34.761851: I tensorflow/stream_executor/cuda/cudart_stub.cc:29] Ignore above cudart dlerror if you do not have a GPU set up on your machine.\n"
     ]
    }
   ],
   "source": [
    "import tensorflow as tf\n",
    "from tensorflow.keras.models import Sequential\n",
    "from tensorflow.keras.layers import Flatten\n",
    "from tensorflow.keras.layers import Dense\n",
    "from tensorflow.keras.optimizers import Adam\n",
    "from tensorflow.keras.datasets import mnist\n",
    "from tensorflow.keras.losses import SparseCategoricalCrossentropy\n",
    "from tensorflow.keras.utils import plot_model\n",
    "from importlib.resources import path\n",
    "import numpy as np\n",
    "import matplotlib.pyplot as plt\n",
    "import gradio as gr"
   ]
  },
  {
   "cell_type": "code",
   "execution_count": 2,
   "metadata": {},
   "outputs": [],
   "source": [
    "(X_train, Y_train), (x_test, y_test) = mnist.load_data()"
   ]
  },
  {
   "cell_type": "code",
   "execution_count": 3,
   "metadata": {},
   "outputs": [
    {
     "data": {
      "image/png": "[encoded data removed]",
      "text/plain": [
       "<Figure size 640x480 with 1 Axes>"
      ]
     },
     "metadata": {},
     "output_type": "display_data"
    }
   ],
   "source": [
    "plt.imshow(X_train[7], cmap=\"gray\")\n",
    "plt.show()"
   ]
  },
  {
   "cell_type": "markdown",
   "metadata": {},
   "source": [
    "Here I am normalizing the data instead of being form 0 to 255 I am making it between 0 and 1"
   ]
  },
  {
   "cell_type": "code",
   "execution_count": 54,
   "metadata": {},
   "outputs": [],
   "source": [
    "from tensorflow.keras.utils import normalize\n",
    "\n",
    "\n",
    "X_train = X_train / 255.0\n",
    "x_test = x_test / 255.0"
   ]
  },
  {
   "cell_type": "markdown",
   "metadata": {},
   "source": [
    "Here we I will create the neural network that I will train to classify the digits."
   ]
  },
  {
   "cell_type": "code",
   "execution_count": 55,
   "metadata": {},
   "outputs": [],
   "source": [
    "model = Sequential([\n",
    "    Flatten(input_shape=(28, 28)),\n",
    "    Dense(512, activation='relu'),\n",
    "    Dense(512, activation='relu'),\n",
    "    Dense(10, activation='softmax')\n",
    "])"
   ]
  },
  {
   "cell_type": "markdown",
   "metadata": {},
   "source": [
    "Now after creating the neural network, I will train it on the MNIST dataset"
   ]
  },
  {
   "cell_type": "code",
   "execution_count": 56,
   "metadata": {},
   "outputs": [
    {
     "name": "stdout",
     "output_type": "stream",
     "text": [
      "Epoch 1/100\n",
      "1875/1875 [==============================] - 11s 4ms/step - loss: 0.7443 - accuracy: 0.7682\n",
      "Epoch 2/100\n",
      "1875/1875 [==============================] - 7s 4ms/step - loss: 0.3866 - accuracy: 0.8843\n",
      "Epoch 3/100\n",
      "1875/1875 [==============================] - 8s 4ms/step - loss: 0.3063 - accuracy: 0.9096\n",
      "Epoch 4/100\n",
      "1875/1875 [==============================] - 7s 4ms/step - loss: 0.2484 - accuracy: 0.9260\n",
      "Epoch 5/100\n",
      "1875/1875 [==============================] - 7s 4ms/step - loss: 0.2079 - accuracy: 0.9378\n",
      "Epoch 6/100\n",
      "1875/1875 [==============================] - 7s 4ms/step - loss: 0.1756 - accuracy: 0.9468\n",
      "Epoch 7/100\n",
      "1875/1875 [==============================] - 7s 4ms/step - loss: 0.1519 - accuracy: 0.9542\n",
      "Epoch 8/100\n",
      "1875/1875 [==============================] - 7s 4ms/step - loss: 0.1325 - accuracy: 0.9597\n",
      "Epoch 9/100\n",
      "1875/1875 [==============================] - 10s 6ms/step - loss: 0.1179 - accuracy: 0.9644\n",
      "Epoch 10/100\n",
      "1875/1875 [==============================] - 11s 6ms/step - loss: 0.1058 - accuracy: 0.9674\n",
      "Epoch 11/100\n",
      "1875/1875 [==============================] - 11s 6ms/step - loss: 0.0939 - accuracy: 0.9708\n",
      "Epoch 12/100\n",
      "1875/1875 [==============================] - 11s 6ms/step - loss: 0.0867 - accuracy: 0.9735\n",
      "Epoch 13/100\n",
      "1875/1875 [==============================] - 11s 6ms/step - loss: 0.0776 - accuracy: 0.9760\n",
      "Epoch 14/100\n",
      "1875/1875 [==============================] - 11s 6ms/step - loss: 0.0725 - accuracy: 0.9768\n",
      "Epoch 15/100\n",
      "1875/1875 [==============================] - 11s 6ms/step - loss: 0.0656 - accuracy: 0.9795\n",
      "Epoch 16/100\n",
      "1875/1875 [==============================] - 11s 6ms/step - loss: 0.0607 - accuracy: 0.9811\n",
      "Epoch 17/100\n",
      "1875/1875 [==============================] - 10s 6ms/step - loss: 0.0565 - accuracy: 0.9820\n",
      "Epoch 18/100\n",
      "1875/1875 [==============================] - 10s 5ms/step - loss: 0.0512 - accuracy: 0.9840\n",
      "Epoch 19/100\n",
      "1875/1875 [==============================] - 10s 5ms/step - loss: 0.0484 - accuracy: 0.9844\n",
      "Epoch 20/100\n",
      "1875/1875 [==============================] - 11s 6ms/step - loss: 0.0440 - accuracy: 0.9858\n",
      "Epoch 21/100\n",
      "1875/1875 [==============================] - 11s 6ms/step - loss: 0.0412 - accuracy: 0.9866\n",
      "Epoch 22/100\n",
      "1875/1875 [==============================] - 11s 6ms/step - loss: 0.0372 - accuracy: 0.9882\n",
      "Epoch 23/100\n",
      "1875/1875 [==============================] - 11s 6ms/step - loss: 0.0357 - accuracy: 0.9883\n",
      "Epoch 24/100\n",
      "1875/1875 [==============================] - 10s 6ms/step - loss: 0.0330 - accuracy: 0.9894\n",
      "Epoch 25/100\n",
      "1875/1875 [==============================] - 11s 6ms/step - loss: 0.0310 - accuracy: 0.9897\n",
      "Epoch 26/100\n",
      "1875/1875 [==============================] - 11s 6ms/step - loss: 0.0286 - accuracy: 0.9907\n",
      "Epoch 27/100\n",
      "1875/1875 [==============================] - 11s 6ms/step - loss: 0.0276 - accuracy: 0.9908\n",
      "Epoch 28/100\n",
      "1875/1875 [==============================] - 11s 6ms/step - loss: 0.0252 - accuracy: 0.9918\n",
      "Epoch 29/100\n",
      "1875/1875 [==============================] - 11s 6ms/step - loss: 0.0231 - accuracy: 0.9926\n",
      "Epoch 30/100\n",
      "1875/1875 [==============================] - 11s 6ms/step - loss: 0.0216 - accuracy: 0.9934\n",
      "Epoch 31/100\n",
      "1875/1875 [==============================] - 11s 6ms/step - loss: 0.0216 - accuracy: 0.9926\n",
      "Epoch 32/100\n",
      "1875/1875 [==============================] - 11s 6ms/step - loss: 0.0199 - accuracy: 0.9933\n",
      "Epoch 33/100\n",
      "1875/1875 [==============================] - 11s 6ms/step - loss: 0.0175 - accuracy: 0.9941\n",
      "Epoch 34/100\n",
      "1875/1875 [==============================] - 11s 6ms/step - loss: 0.0189 - accuracy: 0.9939\n",
      "Epoch 35/100\n",
      "1875/1875 [==============================] - 11s 6ms/step - loss: 0.0167 - accuracy: 0.9945\n",
      "Epoch 36/100\n",
      "1875/1875 [==============================] - 11s 6ms/step - loss: 0.0155 - accuracy: 0.9947\n",
      "Epoch 37/100\n",
      "1875/1875 [==============================] - 11s 6ms/step - loss: 0.0142 - accuracy: 0.9952\n",
      "Epoch 38/100\n",
      "1875/1875 [==============================] - 11s 6ms/step - loss: 0.0147 - accuracy: 0.9950\n",
      "Epoch 39/100\n",
      "1875/1875 [==============================] - 11s 6ms/step - loss: 0.0131 - accuracy: 0.9954\n",
      "Epoch 40/100\n",
      "1875/1875 [==============================] - 11s 6ms/step - loss: 0.0138 - accuracy: 0.9956\n",
      "Epoch 41/100\n",
      "1875/1875 [==============================] - 11s 6ms/step - loss: 0.0128 - accuracy: 0.9956\n",
      "Epoch 42/100\n",
      "1875/1875 [==============================] - 11s 6ms/step - loss: 0.0127 - accuracy: 0.9958\n",
      "Epoch 43/100\n",
      "1875/1875 [==============================] - 11s 6ms/step - loss: 0.0114 - accuracy: 0.9963\n",
      "Epoch 44/100\n",
      "1875/1875 [==============================] - 11s 6ms/step - loss: 0.0103 - accuracy: 0.9966\n",
      "Epoch 45/100\n",
      "1875/1875 [==============================] - 11s 6ms/step - loss: 0.0113 - accuracy: 0.9959\n",
      "Epoch 46/100\n",
      "1875/1875 [==============================] - 11s 6ms/step - loss: 0.0108 - accuracy: 0.9963\n",
      "Epoch 47/100\n",
      "1875/1875 [==============================] - 11s 6ms/step - loss: 0.0102 - accuracy: 0.9968\n",
      "Epoch 48/100\n",
      "1875/1875 [==============================] - 11s 6ms/step - loss: 0.0092 - accuracy: 0.9969\n",
      "Epoch 49/100\n",
      "1875/1875 [==============================] - 11s 6ms/step - loss: 0.0102 - accuracy: 0.9963\n",
      "Epoch 50/100\n",
      "1875/1875 [==============================] - 11s 6ms/step - loss: 0.0098 - accuracy: 0.9967\n",
      "Epoch 51/100\n",
      "1875/1875 [==============================] - 11s 6ms/step - loss: 0.0075 - accuracy: 0.9975\n",
      "Epoch 52/100\n",
      "1875/1875 [==============================] - 11s 6ms/step - loss: 0.0100 - accuracy: 0.9968\n",
      "Epoch 53/100\n",
      "1875/1875 [==============================] - 11s 6ms/step - loss: 0.0097 - accuracy: 0.9966\n",
      "Epoch 54/100\n",
      "1875/1875 [==============================] - 11s 6ms/step - loss: 0.0081 - accuracy: 0.9973\n",
      "Epoch 55/100\n",
      "1875/1875 [==============================] - 11s 6ms/step - loss: 0.0093 - accuracy: 0.9969\n",
      "Epoch 56/100\n",
      "1875/1875 [==============================] - 11s 6ms/step - loss: 0.0085 - accuracy: 0.9971\n",
      "Epoch 57/100\n",
      "1875/1875 [==============================] - 11s 6ms/step - loss: 0.0080 - accuracy: 0.9973\n",
      "Epoch 58/100\n",
      "1875/1875 [==============================] - 12s 6ms/step - loss: 0.0078 - accuracy: 0.9972\n",
      "Epoch 59/100\n",
      "1875/1875 [==============================] - 11s 6ms/step - loss: 0.0069 - accuracy: 0.9976\n",
      "Epoch 60/100\n",
      "1875/1875 [==============================] - 11s 6ms/step - loss: 0.0078 - accuracy: 0.9974\n",
      "Epoch 61/100\n",
      "1875/1875 [==============================] - 11s 6ms/step - loss: 0.0080 - accuracy: 0.9976\n",
      "Epoch 62/100\n",
      "1875/1875 [==============================] - 11s 6ms/step - loss: 0.0082 - accuracy: 0.9973\n",
      "Epoch 63/100\n",
      "1875/1875 [==============================] - 11s 6ms/step - loss: 0.0063 - accuracy: 0.9978\n",
      "Epoch 64/100\n",
      "1875/1875 [==============================] - 11s 6ms/step - loss: 0.0065 - accuracy: 0.9978\n",
      "Epoch 65/100\n",
      "1875/1875 [==============================] - 11s 6ms/step - loss: 0.0070 - accuracy: 0.9975\n",
      "Epoch 66/100\n",
      "1875/1875 [==============================] - 11s 6ms/step - loss: 0.0067 - accuracy: 0.9979\n",
      "Epoch 67/100\n",
      "1875/1875 [==============================] - 11s 6ms/step - loss: 0.0057 - accuracy: 0.9980\n",
      "Epoch 68/100\n",
      "1875/1875 [==============================] - 11s 6ms/step - loss: 0.0068 - accuracy: 0.9977\n",
      "Epoch 69/100\n",
      "1875/1875 [==============================] - 11s 6ms/step - loss: 0.0053 - accuracy: 0.9983\n",
      "Epoch 70/100\n",
      "1875/1875 [==============================] - 11s 6ms/step - loss: 0.0062 - accuracy: 0.9977\n",
      "Epoch 71/100\n",
      "1875/1875 [==============================] - 11s 6ms/step - loss: 0.0058 - accuracy: 0.9981\n",
      "Epoch 72/100\n",
      "1875/1875 [==============================] - 11s 6ms/step - loss: 0.0065 - accuracy: 0.9978\n",
      "Epoch 73/100\n",
      "1875/1875 [==============================] - 11s 6ms/step - loss: 0.0060 - accuracy: 0.9980\n",
      "Epoch 74/100\n",
      "1875/1875 [==============================] - 11s 6ms/step - loss: 0.0065 - accuracy: 0.9980\n",
      "Epoch 75/100\n",
      "1875/1875 [==============================] - 11s 6ms/step - loss: 0.0067 - accuracy: 0.9977\n",
      "Epoch 76/100\n",
      "1875/1875 [==============================] - 11s 6ms/step - loss: 0.0044 - accuracy: 0.9986\n",
      "Epoch 77/100\n",
      "1875/1875 [==============================] - 11s 6ms/step - loss: 0.0079 - accuracy: 0.9974\n",
      "Epoch 78/100\n",
      "1875/1875 [==============================] - 11s 6ms/step - loss: 0.0043 - accuracy: 0.9985\n",
      "Epoch 79/100\n",
      "1875/1875 [==============================] - 11s 6ms/step - loss: 0.0064 - accuracy: 0.9980\n",
      "Epoch 80/100\n",
      "1875/1875 [==============================] - 11s 6ms/step - loss: 0.0029 - accuracy: 0.9989\n",
      "Epoch 81/100\n",
      "1875/1875 [==============================] - 11s 6ms/step - loss: 0.0067 - accuracy: 0.9978\n",
      "Epoch 82/100\n",
      "1875/1875 [==============================] - 11s 6ms/step - loss: 0.0059 - accuracy: 0.9982\n",
      "Epoch 83/100\n",
      "1875/1875 [==============================] - 11s 6ms/step - loss: 0.0043 - accuracy: 0.9986\n",
      "Epoch 84/100\n",
      "1875/1875 [==============================] - 11s 6ms/step - loss: 0.0061 - accuracy: 0.9981\n",
      "Epoch 85/100\n",
      "1875/1875 [==============================] - 11s 6ms/step - loss: 0.0044 - accuracy: 0.9987\n",
      "Epoch 86/100\n",
      "1875/1875 [==============================] - 11s 6ms/step - loss: 0.0052 - accuracy: 0.9982\n",
      "Epoch 87/100\n",
      "1875/1875 [==============================] - 11s 6ms/step - loss: 0.0039 - accuracy: 0.9988\n",
      "Epoch 88/100\n",
      "1875/1875 [==============================] - 11s 6ms/step - loss: 0.0064 - accuracy: 0.9980\n",
      "Epoch 89/100\n",
      "1875/1875 [==============================] - 11s 6ms/step - loss: 0.0050 - accuracy: 0.9983\n",
      "Epoch 90/100\n",
      "1875/1875 [==============================] - 11s 6ms/step - loss: 0.0058 - accuracy: 0.9981\n",
      "Epoch 91/100\n",
      "1875/1875 [==============================] - 11s 6ms/step - loss: 0.0060 - accuracy: 0.9981\n",
      "Epoch 92/100\n",
      "1875/1875 [==============================] - 11s 6ms/step - loss: 0.0064 - accuracy: 0.9980\n",
      "Epoch 93/100\n",
      "1875/1875 [==============================] - 11s 6ms/step - loss: 0.0057 - accuracy: 0.9980\n",
      "Epoch 94/100\n",
      "1875/1875 [==============================] - 11s 6ms/step - loss: 0.0012 - accuracy: 0.9995\n",
      "Epoch 95/100\n",
      "1875/1875 [==============================] - 11s 6ms/step - loss: 0.0081 - accuracy: 0.9977\n",
      "Epoch 96/100\n",
      "1875/1875 [==============================] - 11s 6ms/step - loss: 6.3664e-04 - accuracy: 0.9998\n",
      "Epoch 97/100\n",
      "1875/1875 [==============================] - 11s 6ms/step - loss: 0.0080 - accuracy: 0.9977\n",
      "Epoch 98/100\n",
      "1875/1875 [==============================] - 11s 6ms/step - loss: 0.0049 - accuracy: 0.9981\n",
      "Epoch 99/100\n",
      "1875/1875 [==============================] - 11s 6ms/step - loss: 6.0898e-04 - accuracy: 0.9999\n",
      "Epoch 100/100\n",
      "1875/1875 [==============================] - 11s 6ms/step - loss: 0.0073 - accuracy: 0.9980\n"
     ]
    },
    {
     "data": {
      "text/plain": [
       "<keras.callbacks.History at 0x7f1822c4ee90>"
      ]
     },
     "execution_count": 56,
     "metadata": {},
     "output_type": "execute_result"
    }
   ],
   "source": [
    "model.compile(\n",
    "    optimizer=Adam(0.001),\n",
    "    loss=SparseCategoricalCrossentropy(),\n",
    "    metrics=['accuracy']\n",
    ")\n",
    "\n",
    "model.fit(\n",
    "    X_train, \n",
    "    Y_train,\n",
    "    epochs=100\n",
    ")"
   ]
  },
  {
   "cell_type": "markdown",
   "metadata": {},
   "source": [
    "Saving the model to not do the whole trainning again."
   ]
  },
  {
   "cell_type": "code",
   "execution_count": 57,
   "metadata": {},
   "outputs": [],
   "source": [
    "model.save(\"digit_classification.h5\")"
   ]
  },
  {
   "cell_type": "markdown",
   "metadata": {},
   "source": [
    "Here we will store the predicitons from the test dataset. "
   ]
  },
  {
   "cell_type": "code",
   "execution_count": 58,
   "metadata": {},
   "outputs": [
    {
     "name": "stdout",
     "output_type": "stream",
     "text": [
      "313/313 [==============================] - 1s 3ms/step\n"
     ]
    }
   ],
   "source": [
    "predictions = model.predict([x_test])"
   ]
  },
  {
   "cell_type": "markdown",
   "metadata": {},
   "source": [
    "Here we are trying to display the results of some predictions."
   ]
  },
  {
   "cell_type": "code",
   "execution_count": 59,
   "metadata": {},
   "outputs": [
    {
     "name": "stdout",
     "output_type": "stream",
     "text": [
      "9\n"
     ]
    },
    {
     "data": {
      "image/png": "[encoded data removed]",
      "text/plain": [
       "<Figure size 640x480 with 1 Axes>"
      ]
     },
     "metadata": {},
     "output_type": "display_data"
    }
   ],
   "source": [
    "print(np.argmax(predictions[1000]))\n",
    "plt.imshow(x_test[1000], cmap='gray')\n",
    "plt.show()"
   ]
  },
  {
   "cell_type": "markdown",
   "metadata": {},
   "source": [
    "Finally, here is the accuracy of the model:"
   ]
  },
  {
   "cell_type": "code",
   "execution_count": 69,
   "metadata": {},
   "outputs": [
    {
     "name": "stdout",
     "output_type": "stream",
     "text": [
      "1875/1875 [==============================] - 5s 2ms/step - loss: 0.0030 - accuracy: 0.9992\n"
     ]
    }
   ],
   "source": [
    "(model_loss, model_accuracy) = model.evaluate(X_train, Y_train)"
   ]
  },
  {
   "cell_type": "code",
   "execution_count": 67,
   "metadata": {},
   "outputs": [
    {
     "name": "stdout",
     "output_type": "stream",
     "text": [
      "the accuracy of my model is: 97.89999723434448%\n"
     ]
    }
   ],
   "source": [
    "print(f'the accuracy of my model is: {model_accuracy * 100}%')"
   ]
  },
  {
   "cell_type": "code",
   "execution_count": 62,
   "metadata": {},
   "outputs": [
    {
     "data": {
      "image/png": "[encoded data removed]",
      "text/plain": [
       "<IPython.core.display.Image object>"
      ]
     },
     "execution_count": 62,
     "metadata": {},
     "output_type": "execute_result"
    }
   ],
   "source": [
    "plot_model(\n",
    "    model, \n",
    "    to_file='NN_model.png',\n",
    "    show_shapes=True,\n",
    "    show_dtype=False,\n",
    "    show_layer_names=True,\n",
    "    rankdir=\"TL\",\n",
    "    expand_nested=False,\n",
    "    dpi=96,\n",
    "    layer_range=None,\n",
    "    show_layer_activations=True,\n",
    ")"
   ]
  }
 ],
 "metadata": {
  "kernelspec": {
   "display_name": "Python 3.10.4 64-bit",
   "language": "python",
   "name": "python3"
  },
  "language_info": {
   "codemirror_mode": {
    "name": "ipython",
    "version": 3
   },
   "file_extension": ".py",
   "mimetype": "text/x-python",
   "name": "python",
   "nbconvert_exporter": "python",
   "pygments_lexer": "ipython3",
   "version": "3.10.4"
  },
  "orig_nbformat": 4,
  "vscode": {
   "interpreter": {
    "hash": "31f2aee4e71d21fbe5cf8b01ff0e069b9275f58929596ceb00d14d90e3e16cd6"
   }
  }
 },
 "nbformat": 4,
 "nbformat_minor": 2
}
